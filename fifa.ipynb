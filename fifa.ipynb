{
 "cells": [
  {
   "cell_type": "code",
   "execution_count": 2,
   "metadata": {},
   "outputs": [],
   "source": [
    "import pandas as pd\n",
    "import numpy as np\n",
    "import matplotlib.pyplot as plt\n",
    "import seaborn as sns\n",
    "from sklearn.model_selection import train_test_split\n",
    "from sklearn.preprocessing import StandardScaler\n",
    "from sklearn.ensemble import RandomForestClassifier\n",
    "from sklearn.metrics import accuracy_score, classification_report, confusion_matrix\n"
   ]
  },
  {
   "cell_type": "code",
   "execution_count": 3,
   "metadata": {},
   "outputs": [],
   "source": [
    "# Load dataset\n",
    "df = pd.read_csv(\"C:\\\\Users\\\\abhay\\\\Desktop\\\\ieee==join\\\\international_matches.csv\")\n"
   ]
  },
  {
   "cell_type": "code",
   "execution_count": 4,
   "metadata": {},
   "outputs": [
    {
     "name": "stdout",
     "output_type": "stream",
     "text": [
      "         date home_team     away_team home_team_continent away_team_continent  \\\n",
      "0  1993-08-08   Bolivia       Uruguay       South America       South America   \n",
      "1  1993-08-08    Brazil        Mexico       South America       North America   \n",
      "2  1993-08-08   Ecuador     Venezuela       South America       South America   \n",
      "3  1993-08-08    Guinea  Sierra Leone              Africa              Africa   \n",
      "4  1993-08-08  Paraguay     Argentina       South America       South America   \n",
      "\n",
      "   home_team_fifa_rank  away_team_fifa_rank  home_team_total_fifa_points  \\\n",
      "0                   59                   22                            0   \n",
      "1                    8                   14                            0   \n",
      "2                   35                   94                            0   \n",
      "3                   65                   86                            0   \n",
      "4                   67                    5                            0   \n",
      "\n",
      "   away_team_total_fifa_points  home_team_score  ...  shoot_out  \\\n",
      "0                            0                3  ...         No   \n",
      "1                            0                1  ...         No   \n",
      "2                            0                5  ...         No   \n",
      "3                            0                1  ...         No   \n",
      "4                            0                1  ...         No   \n",
      "\n",
      "  home_team_result home_team_goalkeeper_score away_team_goalkeeper_score  \\\n",
      "0              Win                        NaN                        NaN   \n",
      "1             Draw                        NaN                        NaN   \n",
      "2              Win                        NaN                        NaN   \n",
      "3              Win                        NaN                        NaN   \n",
      "4             Lose                        NaN                        NaN   \n",
      "\n",
      "   home_team_mean_defense_score home_team_mean_offense_score  \\\n",
      "0                           NaN                          NaN   \n",
      "1                           NaN                          NaN   \n",
      "2                           NaN                          NaN   \n",
      "3                           NaN                          NaN   \n",
      "4                           NaN                          NaN   \n",
      "\n",
      "  home_team_mean_midfield_score  away_team_mean_defense_score  \\\n",
      "0                           NaN                           NaN   \n",
      "1                           NaN                           NaN   \n",
      "2                           NaN                           NaN   \n",
      "3                           NaN                           NaN   \n",
      "4                           NaN                           NaN   \n",
      "\n",
      "   away_team_mean_offense_score  away_team_mean_midfield_score  \n",
      "0                           NaN                            NaN  \n",
      "1                           NaN                            NaN  \n",
      "2                           NaN                            NaN  \n",
      "3                           NaN                            NaN  \n",
      "4                           NaN                            NaN  \n",
      "\n",
      "[5 rows x 25 columns]\n",
      "date                                 0\n",
      "home_team                            0\n",
      "away_team                            0\n",
      "home_team_continent                  0\n",
      "away_team_continent                  0\n",
      "home_team_fifa_rank                  0\n",
      "away_team_fifa_rank                  0\n",
      "home_team_total_fifa_points          0\n",
      "away_team_total_fifa_points          0\n",
      "home_team_score                      0\n",
      "away_team_score                      0\n",
      "tournament                           0\n",
      "city                                 0\n",
      "country                              0\n",
      "neutral_location                     0\n",
      "shoot_out                            0\n",
      "home_team_result                     0\n",
      "home_team_goalkeeper_score       15542\n",
      "away_team_goalkeeper_score       15826\n",
      "home_team_mean_defense_score     16134\n",
      "home_team_mean_offense_score     15411\n",
      "home_team_mean_midfield_score    15759\n",
      "away_team_mean_defense_score     16357\n",
      "away_team_mean_offense_score     15609\n",
      "away_team_mean_midfield_score    15942\n",
      "dtype: int64\n",
      "       home_team_fifa_rank  away_team_fifa_rank  home_team_total_fifa_points  \\\n",
      "count         23921.000000         23921.000000                 23921.000000   \n",
      "mean             77.854688            80.797375                   323.401488   \n",
      "std              52.355225            53.232902                   500.825725   \n",
      "min               1.000000             1.000000                     0.000000   \n",
      "25%              33.000000            36.000000                     0.000000   \n",
      "50%              71.000000            73.000000                     0.000000   \n",
      "75%             115.000000           119.000000                   547.000000   \n",
      "max             211.000000           211.000000                  2164.000000   \n",
      "\n",
      "       away_team_total_fifa_points  home_team_score  away_team_score  \\\n",
      "count                 23921.000000     23921.000000     23921.000000   \n",
      "mean                    315.453576         1.609214         1.068266   \n",
      "std                     490.944273         1.630127         1.263944   \n",
      "min                       0.000000         0.000000         0.000000   \n",
      "25%                       0.000000         0.000000         0.000000   \n",
      "50%                       0.000000         1.000000         1.000000   \n",
      "75%                     523.000000         2.000000         2.000000   \n",
      "max                    2164.000000        31.000000        21.000000   \n",
      "\n",
      "       home_team_goalkeeper_score  away_team_goalkeeper_score  \\\n",
      "count                 8379.000000                 8095.000000   \n",
      "mean                    74.963838                   74.212477   \n",
      "std                      8.212242                    8.225919   \n",
      "min                     47.000000                   47.000000   \n",
      "25%                     70.000000                   69.000000   \n",
      "50%                     75.000000                   74.000000   \n",
      "75%                     81.000000                   80.000000   \n",
      "max                     97.000000                   97.000000   \n",
      "\n",
      "       home_team_mean_defense_score  home_team_mean_offense_score  \\\n",
      "count                   7787.000000                   8510.000000   \n",
      "mean                      74.903249                     75.818743   \n",
      "std                        6.003114                      6.268416   \n",
      "min                       52.800000                     53.300000   \n",
      "25%                       71.000000                     71.700000   \n",
      "50%                       75.200000                     75.700000   \n",
      "75%                       78.800000                     80.000000   \n",
      "max                       91.800000                     93.000000   \n",
      "\n",
      "       home_team_mean_midfield_score  away_team_mean_defense_score  \\\n",
      "count                    8162.000000                   7564.000000   \n",
      "mean                       75.889292                     74.424379   \n",
      "std                         6.053110                      5.937425   \n",
      "min                        54.200000                     52.800000   \n",
      "25%                        72.500000                     70.500000   \n",
      "50%                        76.200000                     74.500000   \n",
      "75%                        79.500000                     78.200000   \n",
      "max                        93.200000                     91.800000   \n",
      "\n",
      "       away_team_mean_offense_score  away_team_mean_midfield_score  \n",
      "count                   8312.000000                    7979.000000  \n",
      "mean                      75.420019                      75.259143  \n",
      "std                        6.201906                       6.124573  \n",
      "min                       53.300000                      54.200000  \n",
      "25%                       71.300000                      71.800000  \n",
      "50%                       75.300000                      75.500000  \n",
      "75%                       79.700000                      79.000000  \n",
      "max                       93.000000                      93.200000  \n"
     ]
    }
   ],
   "source": [
    "print(df.head())\n",
    "print(df.isnull().sum())\n",
    "print(df.describe())\n"
   ]
  },
  {
   "cell_type": "code",
   "execution_count": null,
   "metadata": {},
   "outputs": [],
   "source": []
  },
  {
   "cell_type": "code",
   "execution_count": 5,
   "metadata": {},
   "outputs": [
    {
     "name": "stdout",
     "output_type": "stream",
     "text": [
      "home_team_goalkeeper_score       15542\n",
      "away_team_goalkeeper_score       15826\n",
      "home_team_mean_defense_score     16134\n",
      "home_team_mean_offense_score     15411\n",
      "home_team_mean_midfield_score    15759\n",
      "away_team_mean_defense_score     16357\n",
      "away_team_mean_offense_score     15609\n",
      "away_team_mean_midfield_score    15942\n",
      "dtype: int64\n",
      "date                             0\n",
      "home_team                        0\n",
      "away_team                        0\n",
      "home_team_continent              0\n",
      "away_team_continent              0\n",
      "home_team_fifa_rank              0\n",
      "away_team_fifa_rank              0\n",
      "home_team_total_fifa_points      0\n",
      "away_team_total_fifa_points      0\n",
      "home_team_score                  0\n",
      "away_team_score                  0\n",
      "tournament                       0\n",
      "city                             0\n",
      "country                          0\n",
      "neutral_location                 0\n",
      "shoot_out                        0\n",
      "home_team_result                 0\n",
      "home_team_goalkeeper_score       0\n",
      "away_team_goalkeeper_score       0\n",
      "home_team_mean_defense_score     0\n",
      "home_team_mean_offense_score     0\n",
      "home_team_mean_midfield_score    0\n",
      "away_team_mean_defense_score     0\n",
      "away_team_mean_offense_score     0\n",
      "away_team_mean_midfield_score    0\n",
      "dtype: int64\n"
     ]
    }
   ],
   "source": [
    "# Identify columns with null values\n",
    "null_columns = df.columns[df.isnull().any()]\n",
    "print(df[null_columns].isnull().sum())\n",
    "\n",
    "# Drop rows with null values\n",
    "df.dropna(subset=null_columns, inplace=True)\n",
    "df.fillna({\n",
    "    'home_team_goalkeeper_score': 0,\n",
    "    'away_team_goalkeeper_score': 0,\n",
    "    'home_team_mean_defense_score': 0,\n",
    "    'home_team_mean_offense_score': 0,\n",
    "    'home_team_mean_midfield_score': 0,\n",
    "    'away_team_mean_defense_score': 0,\n",
    "    'away_team_mean_offense_score': 0,\n",
    "    'away_team_mean_midfield_score': 0\n",
    "}, inplace=True)\n",
    "\n",
    "# Check if there are any remaining null values\n",
    "print(df.isnull().sum())\n"
   ]
  },
  {
   "cell_type": "code",
   "execution_count": 6,
   "metadata": {},
   "outputs": [
    {
     "data": {
      "text/html": [
       "<style>#sk-container-id-1 {color: black;}#sk-container-id-1 pre{padding: 0;}#sk-container-id-1 div.sk-toggleable {background-color: white;}#sk-container-id-1 label.sk-toggleable__label {cursor: pointer;display: block;width: 100%;margin-bottom: 0;padding: 0.3em;box-sizing: border-box;text-align: center;}#sk-container-id-1 label.sk-toggleable__label-arrow:before {content: \"▸\";float: left;margin-right: 0.25em;color: #696969;}#sk-container-id-1 label.sk-toggleable__label-arrow:hover:before {color: black;}#sk-container-id-1 div.sk-estimator:hover label.sk-toggleable__label-arrow:before {color: black;}#sk-container-id-1 div.sk-toggleable__content {max-height: 0;max-width: 0;overflow: hidden;text-align: left;background-color: #f0f8ff;}#sk-container-id-1 div.sk-toggleable__content pre {margin: 0.2em;color: black;border-radius: 0.25em;background-color: #f0f8ff;}#sk-container-id-1 input.sk-toggleable__control:checked~div.sk-toggleable__content {max-height: 200px;max-width: 100%;overflow: auto;}#sk-container-id-1 input.sk-toggleable__control:checked~label.sk-toggleable__label-arrow:before {content: \"▾\";}#sk-container-id-1 div.sk-estimator input.sk-toggleable__control:checked~label.sk-toggleable__label {background-color: #d4ebff;}#sk-container-id-1 div.sk-label input.sk-toggleable__control:checked~label.sk-toggleable__label {background-color: #d4ebff;}#sk-container-id-1 input.sk-hidden--visually {border: 0;clip: rect(1px 1px 1px 1px);clip: rect(1px, 1px, 1px, 1px);height: 1px;margin: -1px;overflow: hidden;padding: 0;position: absolute;width: 1px;}#sk-container-id-1 div.sk-estimator {font-family: monospace;background-color: #f0f8ff;border: 1px dotted black;border-radius: 0.25em;box-sizing: border-box;margin-bottom: 0.5em;}#sk-container-id-1 div.sk-estimator:hover {background-color: #d4ebff;}#sk-container-id-1 div.sk-parallel-item::after {content: \"\";width: 100%;border-bottom: 1px solid gray;flex-grow: 1;}#sk-container-id-1 div.sk-label:hover label.sk-toggleable__label {background-color: #d4ebff;}#sk-container-id-1 div.sk-serial::before {content: \"\";position: absolute;border-left: 1px solid gray;box-sizing: border-box;top: 0;bottom: 0;left: 50%;z-index: 0;}#sk-container-id-1 div.sk-serial {display: flex;flex-direction: column;align-items: center;background-color: white;padding-right: 0.2em;padding-left: 0.2em;position: relative;}#sk-container-id-1 div.sk-item {position: relative;z-index: 1;}#sk-container-id-1 div.sk-parallel {display: flex;align-items: stretch;justify-content: center;background-color: white;position: relative;}#sk-container-id-1 div.sk-item::before, #sk-container-id-1 div.sk-parallel-item::before {content: \"\";position: absolute;border-left: 1px solid gray;box-sizing: border-box;top: 0;bottom: 0;left: 50%;z-index: -1;}#sk-container-id-1 div.sk-parallel-item {display: flex;flex-direction: column;z-index: 1;position: relative;background-color: white;}#sk-container-id-1 div.sk-parallel-item:first-child::after {align-self: flex-end;width: 50%;}#sk-container-id-1 div.sk-parallel-item:last-child::after {align-self: flex-start;width: 50%;}#sk-container-id-1 div.sk-parallel-item:only-child::after {width: 0;}#sk-container-id-1 div.sk-dashed-wrapped {border: 1px dashed gray;margin: 0 0.4em 0.5em 0.4em;box-sizing: border-box;padding-bottom: 0.4em;background-color: white;}#sk-container-id-1 div.sk-label label {font-family: monospace;font-weight: bold;display: inline-block;line-height: 1.2em;}#sk-container-id-1 div.sk-label-container {text-align: center;}#sk-container-id-1 div.sk-container {/* jupyter's `normalize.less` sets `[hidden] { display: none; }` but bootstrap.min.css set `[hidden] { display: none !important; }` so we also need the `!important` here to be able to override the default hidden behavior on the sphinx rendered scikit-learn.org. See: https://github.com/scikit-learn/scikit-learn/issues/21755 */display: inline-block !important;position: relative;}#sk-container-id-1 div.sk-text-repr-fallback {display: none;}</style><div id=\"sk-container-id-1\" class=\"sk-top-container\"><div class=\"sk-text-repr-fallback\"><pre>RandomForestClassifier(random_state=42)</pre><b>In a Jupyter environment, please rerun this cell to show the HTML representation or trust the notebook. <br />On GitHub, the HTML representation is unable to render, please try loading this page with nbviewer.org.</b></div><div class=\"sk-container\" hidden><div class=\"sk-item\"><div class=\"sk-estimator sk-toggleable\"><input class=\"sk-toggleable__control sk-hidden--visually\" id=\"sk-estimator-id-1\" type=\"checkbox\" checked><label for=\"sk-estimator-id-1\" class=\"sk-toggleable__label sk-toggleable__label-arrow\">RandomForestClassifier</label><div class=\"sk-toggleable__content\"><pre>RandomForestClassifier(random_state=42)</pre></div></div></div></div></div>"
      ],
      "text/plain": [
       "RandomForestClassifier(random_state=42)"
      ]
     },
     "execution_count": 6,
     "metadata": {},
     "output_type": "execute_result"
    }
   ],
   "source": [
    "df['date'] = pd.to_datetime(df['date'])\n",
    "df = pd.get_dummies(df, columns=['home_team_continent', 'away_team_continent', 'tournament', 'city', 'country', 'neutral_location', 'shoot_out', 'home_team_result'], drop_first=True)\n",
    "X = df.drop(['date', 'home_team', 'away_team', 'home_team_result_Win'], axis=1)  # Drop date, home_team, away_team, and home_team_result_Win (use home_team_result_Lose as target)\n",
    "y = df['home_team_result_Win']  # Use 'home_team_result_Win' as target\n",
    "\n",
    "from sklearn.model_selection import train_test_split\n",
    "\n",
    "X_train, X_test, y_train, y_test = train_test_split(X, y, test_size=0.2, random_state=42)\n",
    "from sklearn.ensemble import RandomForestClassifier\n",
    "\n",
    "clf = RandomForestClassifier(random_state=42)\n",
    "clf.fit(X_train, y_train)\n",
    "\n",
    "\n"
   ]
  },
  {
   "cell_type": "code",
   "execution_count": 7,
   "metadata": {},
   "outputs": [
    {
     "name": "stdout",
     "output_type": "stream",
     "text": [
      "Accuracy: 93.26%\n",
      "              precision    recall  f1-score   support\n",
      "\n",
      "           0       0.94      0.94      0.94       480\n",
      "           1       0.92      0.93      0.92       381\n",
      "\n",
      "    accuracy                           0.93       861\n",
      "   macro avg       0.93      0.93      0.93       861\n",
      "weighted avg       0.93      0.93      0.93       861\n",
      "\n"
     ]
    },
    {
     "data": {
      "image/png": "[encoded data removed]",
      "text/plain": [
       "<Figure size 640x480 with 2 Axes>"
      ]
     },
     "metadata": {},
     "output_type": "display_data"
    }
   ],
   "source": [
    "y_pred = clf.predict(X_test)\n",
    "\n",
    "accuracy = accuracy_score(y_test, y_pred)\n",
    "print(f'Accuracy: {accuracy * 100:.2f}%')\n",
    "\n",
    "print(classification_report(y_test, y_pred))\n",
    "\n",
    "cm = confusion_matrix(y_test, y_pred)\n",
    "sns.heatmap(cm, annot=True, fmt='d')\n",
    "plt.xlabel('Predicted')\n",
    "plt.ylabel('True')\n",
    "plt.show()"
   ]
  },
  {
   "cell_type": "code",
   "execution_count": null,
   "metadata": {},
   "outputs": [],
   "source": []
  },
  {
   "cell_type": "code",
   "execution_count": null,
   "metadata": {},
   "outputs": [],
   "source": []
  }
 ],
 "metadata": {
  "kernelspec": {
   "display_name": "base",
   "language": "python",
   "name": "python3"
  },
  "language_info": {
   "codemirror_mode": {
    "name": "ipython",
    "version": 3
   },
   "file_extension": ".py",
   "mimetype": "text/x-python",
   "name": "python",
   "nbconvert_exporter": "python",
   "pygments_lexer": "ipython3",
   "version": "3.11.4"
  }
 },
 "nbformat": 4,
 "nbformat_minor": 2
}
